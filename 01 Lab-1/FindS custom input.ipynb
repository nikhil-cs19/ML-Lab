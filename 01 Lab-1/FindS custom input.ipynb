{
 "cells": [
  {
   "cell_type": "code",
   "execution_count": 16,
   "metadata": {},
   "outputs": [
    {
     "name": "stdout",
     "output_type": "stream",
     "text": [
      "Enter no of samples  4\n",
      "Enter features Sunny Warm Mild Strong\n",
      "Ënter outcome Yes\n",
      "Enter features Rainy Cold Mild Normal\n",
      "Ënter outcome No\n",
      "Enter features Sunny Moderate Normal Normal\n",
      "Ënter outcome Yes\n",
      "Enter features Sunny Cold High Strong\n",
      "Ënter outcome Yes\n"
     ]
    }
   ],
   "source": [
    "n = int(input(\"Enter no of samples  \"))\n",
    "data = list()\n",
    "outcomes = list()\n",
    "for i in range(0,n):\n",
    "    lis = input(\"Enter features \").split(\" \")\n",
    "    outc = input(\"Ënter outcome \")\n",
    "    data.append(lis)\n",
    "    outcomes.append(outc)\n",
    "    row_length = len(data)\n",
    "col_length = len(data[0])\n",
    "for i in range(0,row_length):\n",
    "    if outcomes[i]==\"Yes\":\n",
    "        hypothesis = data[i]\n",
    "        index=i\n",
    "        break\n",
    "for i in range(index+1,row_length):\n",
    "    if outcomes[i]==\"Yes\":\n",
    "        for j in range(0,col_length):\n",
    "            if data[i][j]!='?' and data[i][j]!=hypothesis[j]:\n",
    "                hypothesis[j]=\"?\""
   ]
  },
  {
   "cell_type": "code",
   "execution_count": 17,
   "metadata": {},
   "outputs": [
    {
     "data": {
      "text/plain": [
       "['Sunny', '?', '?', '?']"
      ]
     },
     "execution_count": 17,
     "metadata": {},
     "output_type": "execute_result"
    }
   ],
   "source": [
    "hypothesis\n",
    "    "
   ]
  },
  {
   "cell_type": "code",
   "execution_count": 15,
   "metadata": {},
   "outputs": [
    {
     "data": {
      "text/plain": [
       "['Sunny', 'Warm', 'Mild', 'Strong']"
      ]
     },
     "execution_count": 15,
     "metadata": {},
     "output_type": "execute_result"
    }
   ],
   "source": []
  },
  {
   "cell_type": "code",
   "execution_count": null,
   "metadata": {},
   "outputs": [],
   "source": []
  }
 ],
 "metadata": {
  "kernelspec": {
   "display_name": "Python 3",
   "language": "python",
   "name": "python3"
  },
  "language_info": {
   "codemirror_mode": {
    "name": "ipython",
    "version": 3
   },
   "file_extension": ".py",
   "mimetype": "text/x-python",
   "name": "python",
   "nbconvert_exporter": "python",
   "pygments_lexer": "ipython3",
   "version": "3.7.3"
  }
 },
 "nbformat": 4,
 "nbformat_minor": 2
}
